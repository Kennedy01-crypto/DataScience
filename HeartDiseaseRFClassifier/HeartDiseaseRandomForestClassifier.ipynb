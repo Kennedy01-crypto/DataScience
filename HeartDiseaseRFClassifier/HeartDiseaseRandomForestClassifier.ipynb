{
  "cells": [
    {
      "cell_type": "markdown",
      "metadata": {},
      "source": [
        "# Heart Disease Random Forest Classifier\n",
        "\n",
        "This notebook implements a Random Forest Classifier to predict heart disease based on various features from the dataset."
      ]
    },
    {
      "cell_type": "markdown",
      "metadata": {},
      "source": [
        "## Step 1: Get the Data Ready\n",
        "\n",
        "This step involves loading the dataset, splitting it into features and labels, and preparing the training and testing sets."
      ]
    },
    {
      "cell_type": "code",
      "execution_count": null,
      "metadata": {},
      "outputs": [],
      "source": [
        "import pandas as pd\n",
        "import numpy as np\n",
        "\n",
        "heart_disease = pd.read_csv('heart.csv')\n",
        "\n",
        "heart_disease.describe().T"
      ]
    },
    {
      "cell_type": "markdown",
      "metadata": {},
      "source": [
        "The target column indicates whether the patient has heart disease (target=1) or not (target=0). This is our \"label\" column."
      ]
    },
    {
      "cell_type": "markdown",
      "metadata": {},
      "source": [
        "### Feature Selection\n",
        "\n",
        "Create X (all the feature columns) and y (the target column)."
      ]
    },
    {
      "cell_type": "code",
      "execution_count": null,
      "metadata": {},
      "outputs": [],
      "source": [
        "X = heart_disease.drop(\"target\", axis=1)\n",
        "y = heart_disease[\"target\"]\n",
        "\n",
        "X.head(), y.head(), y.value_counts()"
      ]
    },
    {
      "cell_type": "markdown",
      "metadata": {},
      "source": [
        "### Split Data into Training and Testing Set\n",
        "\n",
        "We will split the data into training and testing sets."
      ]
    },
    {
      "cell_type": "code",
      "execution_count": null,
      "metadata": {},
      "outputs": [],
      "source": [
        "from sklearn.model_selection import train_test_split\n",
        "\n",
        "X_train, X_test, y_train, y_test = train_test_split(X, y, test_size=0.25, random_state=43)\n",
        "\n",
        "X_train.shape, X_test.shape, y_train.shape, y_test.shape"
      ]
    },
    {
      "cell_type": "markdown",
      "metadata": {},
      "source": [
        "## Step 2: Choose the Model and Hyperparameters\n",
        "\n",
        "We will choose the Random Forest model and view its hyperparameters."
      ]
    },
    {
      "cell_type": "code",
      "execution_count": null,
      "metadata": {},
      "outputs": [],
      "source": [
        "from sklearn.ensemble import RandomForestClassifier\n",
        "\n",
        "clf = RandomForestClassifier()\n",
        "\n",
        "clf.get_params()"
      ]
    },
    {
      "cell_type": "markdown",
      "metadata": {},
      "source": [
        "## Step 3: Fit the Model with the Data and Use It to Make Predictions\n",
        "\n",
        "We will fit the model with the training data and make predictions."
      ]
    },
    {
      "cell_type": "code",
      "execution_count": null,
      "metadata": {},
      "outputs": [],
      "source": [
        "clf.fit(X=X_train, y=y_train)\n",
        "y_preds = clf.predict(X=X_test)\n",
        "y_preds"
      ]
    },
    {
      "cell_type": "markdown",
      "metadata": {},
      "source": [
        "## Step 4: Evaluate the Model\n",
        "\n",
        "We will evaluate the model's performance using accuracy scores, classification reports, and confusion matrices."
      ]
    },
    {
      "cell_type": "code",
      "execution_count": null,
      "metadata": {},
      "outputs": [],
      "source": [
        "train_acc = clf.score(X=X_train, y=y_train)\n",
        "test_acc = clf.score(X=X_test, y=y_test)\n",
        "\n",
        "from sklearn.metrics import classification_report, confusion_matrix, accuracy_score\n",
        "\n",
        "print(f\"Accuracy (Training Dataset): {train_acc * 100}%\")\n",
        "print(f\"Accuracy (Testing Dataset): {test_acc * 100}%\")\n",
        "print(classification_report(y_test, y_preds))\n",
        "conf_mat = confusion_matrix(y_test, y_preds)\n",
        "conf_mat\n",
        "accuracy_score(y_test, y_preds)"
      ]
    },
    {
      "cell_type": "markdown",
      "metadata": {},
      "source": [
        "## Step 5: Hyperparameter Tuning\n",
        "\n",
        "We will experiment with different numbers of estimators and use cross-validation to find the best model."
      ]
    },
    {
      "cell_type": "code",
      "execution_count": null,
      "metadata": {},
      "outputs": [],
      "source": [
        "np.random.seed(42)\n",
        "for i in range(100, 200, 10):\n",
        "    model = RandomForestClassifier(n_estimators=i).fit(X_train, y_train)\n",
        "    print(f\"Model accuracy on test set with {i} estimators: {model.score(X_test, y_test) * 100:.2f}%\")\n",
        "\n",
        "from sklearn.model_selection import cross_val_score\n",
        "np.random.seed(42)\n",
        "for i in range(100, 200, 10):\n",
        "    model = RandomForestClassifier(n_estimators=i).fit(X_train, y_train)\n",
        "    cross_val_mean = np.mean(cross_val_score(model, X, y, cv=5))\n",
        "    print(f\"5-fold cross-validation score with {i} estimators: {cross_val_mean * 100:.2f}%\")"
      ]
    },
    {
      "cell_type": "markdown",
      "metadata": {},
      "source": [
        "## Step 6: Save a Model\n",
        "\n",
        "We will save the trained model using both pickle and joblib."
      ]
    },
    {
      "cell_type": "code",
      "execution_count": null,
      "metadata": {},
      "outputs": [],
      "source": [
        "import pickle\n",
        "pickle.dump(model, open(\"random_forest_model_1.pkl\", \"wb\"))\n",
        "\n",
        "loaded_pickle_model = pickle.load(open(\"random_forest_model_1.pkl\", \"rb\"))\n",
        "print(f\"Loaded pickle model prediction score: {loaded_pickle_model.score(X_test, y_test) * 100:.2f}%\")\n",
        "\n",
        "from joblib import dump, load\n",
        "dump(model, \"random_forest_model_1.joblib\")\n",
        "loaded_joblib_model = load(\"random_forest_model_1.joblib\")\n",
        "print(f\"Loaded joblib model prediction score: {loaded_joblib_model.score(X_test, y_test) * 100:.2f}%\")"
      ]
    }
  ],
  "metadata": {
    "kernelspec": {
      "display_name": "Python 3",
      "language": "python",
      "name": "python3"
    },
    "language_info": {
      "codemirror_mode": {
        "name": "ipython",
        "version": 3
      },
      "file_extension": ".py",
      "mimetype": "text/x-python",
      "name": "python",
      "nbconvert_exporter": "python",
      "pygments_lexer": "ipython3",
      "version": "3.8.5"
    }
  },
  "nbformat": 4,
  "nbformat_minor": 4
}
