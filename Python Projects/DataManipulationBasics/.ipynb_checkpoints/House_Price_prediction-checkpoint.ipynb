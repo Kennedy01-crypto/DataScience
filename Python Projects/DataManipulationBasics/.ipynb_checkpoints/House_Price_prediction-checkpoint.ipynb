{
  "cells": [
    {
      "cell_type": "markdown",
      "metadata": {},
      "source": [
        "# House Price Prediction\n",
        "\n",
        "This notebook demonstrates how to predict house prices using a linear regression model. The dataset contains information about house features such as square footage and the number of bedrooms."
      ]
    },
    {
      "cell_type": "code",
      "execution_count": null,
      "metadata": {},
      "outputs": [],
      "source": [
        "import pandas as pd\n",
        "from sklearn.model_selection import train_test_split\n",
        "from sklearn.linear_model import LinearRegression\n",
        "from sklearn.metrics import mean_squared_error, r2_score"
      ]
    },
    {
      "cell_type": "markdown",
      "metadata": {},
      "source": [
        "## Load the Dataset\n"
      ]
    },
    {
      "cell_type": "code",
      "execution_count": null,
      "metadata": {},
      "outputs": [],
      "source": [
        "# a) Load the dataset into Python\n",
        "try:\n",
        "    df = pd.read_csv(\"Files/house_prices.csv\")  # Attempt to read the CSV file\n",
        "except FileNotFoundError:\n",
        "    print(\"Error: house_prices.csv not found. Please create the file or ensure it's in the correct directory.\")\n",
        "    # Create a dummy DataFrame for testing if the file does not exist\n",
        "    df = pd.DataFrame({'Square_Feet': [], 'Bedrooms': [], 'Price': []})\n",
        "\n",
        "df.head()  # Display the first few rows of the dataset"
      ]
    },
    {
      "cell_type": "markdown",
      "metadata": {},
      "source": [
        "## Prepare Features and Target\n"
      ]
    },
    {
      "cell_type": "code",
      "execution_count": null,
      "metadata": {},
      "outputs": [],
      "source": [
        "# b) Use scikit-learn to create a Linear Regression model\n",
        "X = df[[\"Square_Feet\", \"Bedrooms\"]]  # Features\n",
        "y = df[\"Price\"]  # Target\n",
        "\n",
        "# Split the data into training and testing sets\n",
        "X_train, X_test, y_train, y_test = train_test_split(X, y, test_size=0.2, random_state=42)  # 80-20 split"
      ]
    },
    {
      "cell_type": "markdown",
      "metadata": {},
      "source": [
        "## Create and Fit the Model\n"
      ]
    },
    {
      "cell_type": "code",
      "execution_count": null,
      "metadata": {},
      "outputs": [],
      "source": [
        "model = LinearRegression()  # Create a Linear Regression model\n",
        "model.fit(X_train, y_train)  # Fit the model to the training data"
      ]
    },
    {
      "cell_type": "markdown",
      "metadata": {},
      "source": [
        "## Display Model Coefficients\n"
      ]
    },
    {
      "cell_type": "code",
      "execution_count": null,
      "metadata": {},
      "outputs": [],
      "source": [
        "# c) Display the model coefficients and intercept\n",
        "print(\"Model Coefficients:\", model.coef_)  # Print the coefficients\n",
        "print(\"Model Intercept:\", model.intercept_)  # Print the intercept"
      ]
    },
    {
      "cell_type": "markdown",
      "metadata": {},
      "source": [
        "## Predict House Price\n"
      ]
    },
    {
      "cell_type": "code",
      "execution_count": null,
      "metadata": {},
      "outputs": [],
      "source": [
        "# d) Predict the price of a house with 2000 square feet and 3 bedrooms\n",
        "new_house = pd.DataFrame({\"Square_Feet\": [2000], \"Bedrooms\": [3]})  # New house data\n",
        "predicted_price = model.predict(new_house)  # Predict the price\n",
        "print(\"Predicted Price:\", predicted_price[0])  # Print the predicted price"
      ]
    },
    {
      "cell_type": "markdown",
      "metadata": {},
      "source": [
        "## Optional Model Evaluation\n"
      ]
    },
    {
      "cell_type": "code",
      "execution_count": null,
      "metadata": {},
      "outputs": [],
      "source": [
        "# Optional evaluation of the model\n",
        "y_pred = model.predict(X_test)  # Predict on the test set\n",
        "print('Mean squared error: %.2f' % mean_squared_error(y_test, y_pred))  # Print mean squared error\n",
        "print('Coefficient of determination: %.2f' % r2_score(y_test, y_pred))  # Print R^2 score"
      ]
    }
  ],
  "metadata": {
    "kernelspec": {
      "display_name": "Python 3",
      "language": "python",
      "name": "python3"
    },
    "language_info": {
      "codemirror_mode": {
        "name": "ipython",
        "version": 3
      },
      "file_extension": ".py",
      "mimetype": "text/x-python",
      "name": "python",
      "nbconvert_exporter": "python",
      "pygments_lexer": "ipython3",
      "version": "3.8.5"
    }
  },
  "nbformat": 4,
  "nbformat_minor": 4
}
