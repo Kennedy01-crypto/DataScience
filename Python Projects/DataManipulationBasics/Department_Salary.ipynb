{
 "cells": [
  {
   "cell_type": "markdown",
   "metadata": {},
   "source": [
    "# Department Salary Analysis\n",
    "\n",
    "This notebook analyzes employee salary data by department. It provides insights into salary distributions and averages."
   ]
  },
  {
   "cell_type": "code",
   "execution_count": 1,
   "metadata": {},
   "outputs": [],
   "source": [
    "import pandas as pd\n"
   ]
  },
  {
   "cell_type": "markdown",
   "metadata": {},
   "source": [
    "## Load the Dataset\n"
   ]
  },
  {
   "cell_type": "code",
   "execution_count": 2,
   "metadata": {},
   "outputs": [
    {
     "name": "stdout",
     "output_type": "stream",
     "text": [
      "Error: employee_data.csv not found. Please create the file or ensure it's in the correct directory.\n"
     ]
    }
   ],
   "source": [
    "# a) Load the dataset into Python (Pandas)\n",
    "try:\n",
    "    df = pd.read_csv(\"employee_data.csv\")  # Attempt to load the employee data\n",
    "except FileNotFoundError:\n",
    "    print(\"Error: employee_data.csv not found. Please create the file or ensure it's in the correct directory.\")\n",
    "    # Create a dummy DataFrame for testing if the file does not exist\n",
    "    df = pd.DataFrame({'Name': [], 'Department': [], 'Salary': [], 'Hire_Date': []})"
   ]
  },
  {
   "cell_type": "markdown",
   "metadata": {},
   "source": [
    "## Display Name and Salary Columns\n"
   ]
  },
  {
   "cell_type": "code",
   "execution_count": 3,
   "metadata": {},
   "outputs": [
    {
     "name": "stdout",
     "output_type": "stream",
     "text": [
      "\n",
      "Name and Salary Columns:\n",
      "Empty DataFrame\n",
      "Columns: [Name, Salary]\n",
      "Index: []\n"
     ]
    }
   ],
   "source": [
    "# b) Display only the Name and Salary columns\n",
    "print(\"\\nName and Salary Columns:\")\n",
    "print(df[[\"Name\", \"Salary\"]])  # Print the selected columns"
   ]
  },
  {
   "cell_type": "markdown",
   "metadata": {},
   "source": [
    "## Filter Records with High Salaries\n"
   ]
  },
  {
   "cell_type": "code",
   "execution_count": 4,
   "metadata": {},
   "outputs": [
    {
     "name": "stdout",
     "output_type": "stream",
     "text": [
      "\n",
      "Employees with Salary > 60000:\n",
      "Empty DataFrame\n",
      "Columns: [Name, Department, Salary, Hire_Date]\n",
      "Index: []\n"
     ]
    }
   ],
   "source": [
    "# c) Filter records where Salary is above 60000\n",
    "high_salary = df[df[\"Salary\"] > 60000]  # Filter the DataFrame for high salaries\n",
    "print(\"\\nEmployees with Salary > 60000:\")\n",
    "print(high_salary)  # Print the filtered DataFrame"
   ]
  },
  {
   "cell_type": "markdown",
   "metadata": {},
   "source": [
    "## Calculate Average Salary per Department\n"
   ]
  },
  {
   "cell_type": "code",
   "execution_count": 5,
   "metadata": {},
   "outputs": [
    {
     "name": "stdout",
     "output_type": "stream",
     "text": [
      "\n",
      "Average Salary per Department:\n",
      "Series([], Name: Salary, dtype: float64)\n"
     ]
    }
   ],
   "source": [
    "# d) Group the data by Department and calculate the average salary per department\n",
    "avg_salary_per_dept = df.groupby(\"Department\")[\"Salary\"].mean()  # Group by department and calculate mean salary\n",
    "print(\"\\nAverage Salary per Department:\")\n",
    "print(avg_salary_per_dept)  # Print the average salary per department"
   ]
  },
  {
   "cell_type": "markdown",
   "metadata": {},
   "source": [
    "## Save Summarized Data\n"
   ]
  },
  {
   "cell_type": "code",
   "execution_count": 6,
   "metadata": {},
   "outputs": [
    {
     "name": "stdout",
     "output_type": "stream",
     "text": [
      "\n",
      "Average salary per department saved to department_salary.csv\n"
     ]
    }
   ],
   "source": [
    "# e) Save the summarized data to department_salary.csv\n",
    "avg_salary_per_dept.to_csv(\"department_salary.csv\")  # Save the results to a CSV file\n",
    "print(\"\\nAverage salary per department saved to department_salary.csv\")"
   ]
  }
 ],
 "metadata": {
  "kernelspec": {
   "display_name": "Python 3 (ipykernel)",
   "language": "python",
   "name": "python3"
  },
  "language_info": {
   "codemirror_mode": {
    "name": "ipython",
    "version": 3
   },
   "file_extension": ".py",
   "mimetype": "text/x-python",
   "name": "python",
   "nbconvert_exporter": "python",
   "pygments_lexer": "ipython3",
   "version": "3.11.7"
  }
 },
 "nbformat": 4,
 "nbformat_minor": 4
}
