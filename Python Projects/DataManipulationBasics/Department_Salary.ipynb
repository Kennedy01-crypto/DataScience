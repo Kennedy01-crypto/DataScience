{
  "cells": [
    {
      "cell_type": "code",
      "execution_count": 6,
      "id": "f615d422-ce08-45c0-bf05-168b983c53a2",
      "metadata": {},
      "outputs": [],
      "source": [
        "import pandas as pd\n",
        "# a) Load the dataset into Python (Pandas).\n",
        "try:\n",
        "    df = pd.read_csv(\"employee_data.csv\")\n",
        "except FileNotFoundError:\n",
        "    print(\"Error: employee_data.csv not found. Please create the file or ensure it's in the correct directory.\")\n",
        "    # Create a dummy dataframe for testing if file does not exist.\n",
        "    df = pd.DataFrame({'Name': [], 'Department': [], 'Salary': [], 'Hire_Date': []})\n"
      ]
    },
    {
      "cell_type": "code",
      "execution_count": null,
      "id": "23856f5b-0014-478c-878f-af1a8405bd7f",
      "metadata": {},
      "outputs": [
        {
          "name": "stdout",
          "output_type": "stream",
          "text": [
            "\n",
            "Name and Salary Columns:\n",
            "         Name  Salary\n",
            "0    John Doe   55000\n",
            "1  Jane Smith   75000\n",
            "2  Mike Brown   48000\n",
            "3  Anna White   82000\n",
            "4  Emma Davis   61000\n"
          ]
        }
      ],
      "source": [
        "# b) Display only the Name and Salary columns.\n",
        "print(\"\\nName and Salary Columns:\")\n",
        "print(df[[\"Name\", \"Salary\"]]) # Print the selected columns"
      ]
    },
    {
      "cell_type": "code",
      "execution_count": null,
      "id": "3adb2e8a-242b-41ad-b52d-60199f689ec9",
      "metadata": {},
      "outputs": [
        {
          "name": "stdout",
          "output_type": "stream",
          "text": [
            "\n",
            "Employees with Salary > 60000:\n",
            "         Name Department  Salary   Hire_date\n",
            "1  Jane Smith         IT   75000   3/22/2018\n",
            "3  Anna White         IT   82000  01/05/2021\n",
            "4  Emma Davis      Sales   61000   7/19/2017\n"
          ]
        }
      ],
      "source": [
        "# c) Filter records where Salary is above 60000.\n",
        "high_salary = df[df[\"Salary\"] > 60000] # Filter the DataFrame for high salaries\n",
        "print(\"\\nEmployees with Salary > 60000:\")\n",
        "print(high_salary) # Print the filtered DataFrame\n"
      ]
    },
    {
      "cell_type": "code",
      "execution_count": null,
      "id": "4b05784d-54d9-4e3c-9777-e24db6e3dca1",
      "metadata": {},
      "outputs": [
        {
          "name": "stdout",
          "output_type": "stream",
          "text": [
            "\n",
            "Average Salary per Department:\n",
            "Department\n",
            "HR       55000.0\n",
            "IT       78500.0\n",
            "Sales    54500.0\n",
            "Name: Salary, dtype: float64\n"
          ]
        }
      ],
      "source": [
        "# d) Group the data by Department and calculate the average salary per department.\n",
        "avg_salary_per_dept = df.groupby(\"Department\")[\"Salary\"].mean() # Group by department and calculate mean salary\n",
        "print(\"\\nAverage Salary per Department:\")\n",
        "print(avg_salary_per_dept) # Print the average salary per department"
      ]
    },
    {
      "cell_type": "code",
      "execution_count": null,
      "id": "3080e02a-b6e7-4f6a-8487-184935bbf14e",
      "metadata": {},
      "outputs": [
        {
          "name": "stdout",
          "output_type": "stream",
          "text": [
            "\n",
            "Average salary per department saved to department_salary.csv\n"
          ]
        }
      ],
      "source": [
        "# e) Save the summarized data to department_salary.csv.\n",
        "avg_salary_per_dept.to_csv(\"department_salary.csv\") # Save the results to a CSV file\n",
        "print(\"\\nAverage salary per department saved to department_salary.csv\")"
      ]
    },
    {
      "cell_type": "code",
      "execution_count": null,
      "id": "5c7ad9aa-2987-4b2e-9851-1fa36de5a5d6",
      "metadata": {},
      "outputs": [],
      "source": []
    }
  ],
  "metadata": {
    "kernelspec": {
      "display_name": "Python 3 (ipykernel)",
      "language": "python",
      "name": "python3"
    },
    "language_info": {
      "codemirror_mode": {
        "name": "ipython",
        "version": 3
      },
      "file_extension": ".py",
      "mimetype": "text/x-python",
      "name": "python",
      "nbconvert_exporter": "python",
      "pygments_lexer": "ipython3",
      "version": "3.11.7"
    }
  },
  "nbformat": 4,
  "nbformat_minor": 5
}
